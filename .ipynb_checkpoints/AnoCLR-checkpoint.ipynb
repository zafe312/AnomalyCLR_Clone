{
 "cells": [
  {
   "cell_type": "markdown",
   "id": "81093688-83b0-419c-8c3f-85ab9ea9ae63",
   "metadata": {},
   "source": [
    "## AnomalyCLR"
   ]
  },
  {
   "cell_type": "code",
   "execution_count": 1,
   "id": "5adbe8a2",
   "metadata": {
    "tags": []
   },
   "outputs": [],
   "source": [
    "import torch\n",
    "import numpy as np\n",
    "import torch.nn.functional as F\n",
    "import torch.nn as nn\n",
    "import matplotlib.pyplot as plt\n",
    "from modules.EventLevelAnomalyAugmentations import rotate_events, add_objects\n",
    "from modules.ContrastiveLosses import clr_loss, anomclr_loss, anomclr_plus_loss #Please download the modules from https://github.com/bmdillon/AnomalyCLR\n",
    "# Also download the EventLevelAnomalyAugmentations.py and import the module to utlize the augmentations"
   ]
  },
  {
   "cell_type": "code",
   "execution_count": 2,
   "id": "3d2b6a63",
   "metadata": {
    "tags": []
   },
   "outputs": [],
   "source": [
    "sig = np.load(\"Ato4_taged.npy\")\n",
    "sig[:,:,0] /= np.mean(sig[:,:,0].flatten()[(0 < sig[:,:,0].flatten())])\n",
    "sig[:,:,1] /= np.max(sig[:,:,1])\n",
    "sig[:,:,2] /= np.max(sig[:,:,2])\n",
    "sig = np.swapaxes(sig, 1, 2)"
   ]
  },
  {
   "cell_type": "code",
   "execution_count": 3,
   "id": "bac5dd10",
   "metadata": {
    "tags": []
   },
   "outputs": [
    {
     "data": {
      "text/plain": [
       "(55969, 7, 19)"
      ]
     },
     "execution_count": 3,
     "metadata": {},
     "output_type": "execute_result"
    }
   ],
   "source": [
    "sig.shape"
   ]
  },
  {
   "cell_type": "code",
   "execution_count": 6,
   "id": "4581f817",
   "metadata": {
    "tags": []
   },
   "outputs": [],
   "source": [
    "bkg = np.load(\"sm_taged.npy\")\n",
    "bkg = bkg[:100000]\n",
    "bkg[:,:,0] /= np.mean(bkg[:,:,0].flatten()[(0 < bkg[:,:,0].flatten())])\n",
    "bkg[:,:,1] /= np.max(bkg[:,:,1])\n",
    "bkg[:,:,2] /= np.max(bkg[:,:,2])\n",
    "bkg = np.swapaxes(bkg, 1, 2)"
   ]
  },
  {
   "cell_type": "code",
   "execution_count": 7,
   "id": "b430f155",
   "metadata": {
    "tags": []
   },
   "outputs": [
    {
     "data": {
      "text/plain": [
       "(100000, 7, 19)"
      ]
     },
     "execution_count": 7,
     "metadata": {},
     "output_type": "execute_result"
    }
   ],
   "source": [
    "bkg.shape"
   ]
  },
  {
   "cell_type": "code",
   "execution_count": 12,
   "id": "a43c186e",
   "metadata": {
    "tags": []
   },
   "outputs": [],
   "source": [
    "n_epochs = 10\n",
    "batch_size = 128\n",
    "trnsize = 10000\n",
    "valsize = 2000"
   ]
  },
  {
   "cell_type": "code",
   "execution_count": 13,
   "id": "30952bac",
   "metadata": {
    "tags": []
   },
   "outputs": [],
   "source": [
    "trndat = bkg[0:trnsize,:,:]\n",
    "valdat = sig[0:valsize,:,:]"
   ]
  },
  {
   "cell_type": "code",
   "execution_count": 14,
   "id": "cb261c6d",
   "metadata": {
    "tags": []
   },
   "outputs": [
    {
     "data": {
      "text/plain": [
       "(10000, 7, 19)"
      ]
     },
     "execution_count": 14,
     "metadata": {},
     "output_type": "execute_result"
    }
   ],
   "source": [
    "trndat.shape"
   ]
  },
  {
   "cell_type": "code",
   "execution_count": 15,
   "id": "baf4d2cf",
   "metadata": {
    "tags": []
   },
   "outputs": [],
   "source": [
    "######\n",
    "# Definding Transformer Encoder and NN\n",
    "######\n",
    "\n",
    "class Transformer( nn.Module ):\n",
    "    \n",
    "    # define and intialize the structure of the neural network\n",
    "    def __init__( self, input_dim, model_dim, output_dim, n_heads, dim_feedforward, n_layers, learning_rate, n_head_layers=2, head_norm=False, dropout=0.1, opt=\"adam\" ):\n",
    "        super().__init__()\n",
    "        # define hyperparameters\n",
    "        self.input_dim = input_dim\n",
    "        self.model_dim = model_dim\n",
    "        self.output_dim = output_dim\n",
    "        self.n_heads = n_heads\n",
    "        self.dim_feedforward = dim_feedforward\n",
    "        self.n_layers = n_layers\n",
    "        self.learning_rate = learning_rate\n",
    "        self.n_head_layers = n_head_layers\n",
    "        self.head_norm = head_norm\n",
    "        self.dropout = dropout\n",
    "        # define subnetworks\n",
    "        self.embedding = nn.Linear(input_dim, model_dim)\n",
    "        self.transformer = nn.TransformerEncoder(nn.TransformerEncoderLayer(model_dim, n_heads, dim_feedforward=dim_feedforward, dropout=dropout), n_layers)\n",
    "        # head_layers have output_dim\n",
    "        if n_head_layers == 0:\n",
    "            self.head_layers = []\n",
    "        else:\n",
    "            if head_norm: self.norm_layers = nn.ModuleList([nn.LayerNorm(model_dim)])\n",
    "            self.head_layers = nn.ModuleList([nn.Linear(model_dim, output_dim)])\n",
    "            for i in range(n_head_layers-1):\n",
    "                if head_norm: self.norm_layers.append(nn.LayerNorm(output_dim))\n",
    "                self.head_layers.append(nn.Linear(output_dim, output_dim))\n",
    "        # option to use adam or sgd\n",
    "        if opt == \"adam\":\n",
    "            self.optimizer = torch.optim.Adam( self.parameters(), lr=self.learning_rate )\n",
    "        if opt == \"sgdca\" or opt == \"sgdslr\" or opt == \"sgd\":\n",
    "            self.optimizer = torch.optim.SGD( self.parameters(), lr=self.learning_rate, momentum=0.9 )\n",
    "\n",
    "    def forward(self, inpt, mask=None, use_mask=False, use_continuous_mask=False, mult_reps=False):\n",
    "        '''\n",
    "        input here is (batch_size, n_constit, 7)\n",
    "        but transformer expects (n_constit, batch_size, 7) so we need to transpose\n",
    "        if use_mask is True, will mask out all inputs with pT=0\n",
    "        '''\n",
    "        assert not (use_mask and use_continuous_mask)\n",
    "        # make a copy\n",
    "        x = inpt + 0.   \n",
    "        # (batch_size, n_constit)\n",
    "        if use_mask: pT_zero = x[:,:,0] == 0 \n",
    "        # (batch_size, n_constit)\n",
    "        if use_continuous_mask: pT = x[:,:,0] \n",
    "        if use_mask:\n",
    "            mask = self.make_mask(pT_zero).to(x.device)\n",
    "        elif use_continuous_mask:\n",
    "            mask = self.make_continuous_mask(pT).to(x.device)\n",
    "        else:\n",
    "            mask = None\n",
    "        x = torch.transpose(x, 0, 1)\n",
    "        # (n_constit, batch_size, model_dim)\n",
    "        x = self.embedding(x)               \n",
    "        x = self.transformer(x, mask=mask)\n",
    "        if use_mask:\n",
    "            # set masked constituents to zero\n",
    "            # otherwise the sum will change if the constituents with 0 pT change\n",
    "            x[torch.transpose(pT_zero, 0, 1)] = 0\n",
    "        elif use_continuous_mask:\n",
    "            # scale x by pT, so that function is IR safe\n",
    "            # transpose first to get correct shape\n",
    "            x *= torch.transpose(pT, 0, 1)[:,:,None]\n",
    "        # sum over sequence dim\n",
    "        # (batch_size, model_dim)\n",
    "        x = x.sum(0)                        \n",
    "        return self.head(x, mult_reps)\n",
    "\n",
    "\n",
    "    def head(self, x, mult_reps):\n",
    "        '''\n",
    "        calculates output of the head if it exists, i.e. if n_head_layer>0\n",
    "        returns multiple representation layers if asked for by mult_reps = True\n",
    "        input:  x shape=(batchsize, model_dim)\n",
    "                mult_reps boolean\n",
    "        output: reps shape=(batchsize, output_dim)                  for mult_reps=False\n",
    "                reps shape=(batchsize, number_of_reps, output_dim)  for mult_reps=True\n",
    "        '''\n",
    "        relu = nn.ReLU()\n",
    "            # return representations from multiple layers for evaluation\n",
    "        if mult_reps == True:   \n",
    "            if self.n_head_layers > 0:\n",
    "                reps = torch.empty(x.shape[0], self.n_head_layers+1, self.output_dim)\n",
    "                reps[:, 0] = x\n",
    "                for i, layer in enumerate(self.head_layers):\n",
    "                    # only apply layer norm on head if chosen\n",
    "                    if self.head_norm: x = self.norm_layers[i](x)       \n",
    "                    x = relu(x)\n",
    "                    x = layer(x)\n",
    "                    reps[:, i+1] = x\n",
    "                # shape (n_head_layers, output_dim)\n",
    "                return reps  \n",
    "            # no head exists -> just return x in a list with dimension 1\n",
    "            else:  \n",
    "                reps = x[:, None, :]\n",
    "                # shape (batchsize, 1, model_dim)\n",
    "                return reps  \n",
    "        # return only last representation for contrastive loss\n",
    "        else:  \n",
    "            for i, layer in enumerate(self.head_layers):  # will do nothing if n_head_layers is 0\n",
    "                if self.head_norm: x = self.norm_layers[i](x)\n",
    "                x = relu(x)\n",
    "                x = layer(x)\n",
    "            # shape either (model_dim) if no head, or (output_dim) if head exists\n",
    "            return x  \n",
    "\n",
    "\n",
    "    def forward_batchwise( self, x, batch_size, use_mask=False, use_continuous_mask=False):\n",
    "        device = next(self.parameters()).device\n",
    "        with torch.no_grad():\n",
    "            if self.n_head_layers == 0:\n",
    "                rep_dim = self.model_dim\n",
    "                number_of_reps = 1\n",
    "            elif self.n_head_layers > 0:\n",
    "                rep_dim = self.output_dim\n",
    "                number_of_reps = self.n_head_layers+1\n",
    "            out = torch.empty( x.size(0), number_of_reps, rep_dim )\n",
    "            idx_list = torch.split( torch.arange( x.size(0) ), batch_size )\n",
    "            for idx in idx_list:\n",
    "                output = self(x[idx].to(device), use_mask=use_mask, use_continuous_mask=use_continuous_mask, mult_reps=True).detach().cpu()\n",
    "                out[idx] = output\n",
    "        return out\n",
    "\n",
    "\n",
    "    def make_mask(self, pT_zero):\n",
    "        '''\n",
    "        Input: batch of bools of whether pT=0, shape (batchsize, n_constit)\n",
    "        Output: mask for transformer model which masks out constituents with pT=0, shape (batchsize*n_transformer_heads, n_constit, n_constit)\n",
    "        mask is added to attention output before softmax: 0 means value is unchanged, -inf means it will be masked\n",
    "        '''\n",
    "        n_constit = pT_zero.size(1)\n",
    "        pT_zero = torch.repeat_interleave(pT_zero, self.n_heads, axis=0)\n",
    "        pT_zero = torch.repeat_interleave(pT_zero[:,None], n_constit, axis=1)\n",
    "        mask = torch.zeros(pT_zero.size(0), n_constit, n_constit)\n",
    "        mask[pT_zero] = -np.inf\n",
    "        return mask\n",
    "    \n",
    "    \n",
    "    def make_continuous_mask(self, pT):\n",
    "        '''\n",
    "        Input: batch of pT values, shape (batchsize, n_constit)\n",
    "        Output: mask for transformer model: -1/pT, shape (batchsize*n_transformer_heads, n_constit, n_constit)\n",
    "        mask is added to attention output before softmax: 0 means value is unchanged, -inf means it will be masked\n",
    "        intermediate values mean it is partly masked\n",
    "        This function implements IR safety in the transformer\n",
    "        '''\n",
    "        n_constit = pT.size(1)\n",
    "        pT_reshape = torch.repeat_interleave(pT, self.n_heads, axis=0)\n",
    "        pT_reshape = torch.repeat_interleave(pT_reshape[:,None], n_constit, axis=1)\n",
    "        #mask = -1/pT_reshape\n",
    "        mask = 0.5*torch.log( pT_reshape )\n",
    "        return mask\n"
   ]
  },
  {
   "cell_type": "code",
   "execution_count": 16,
   "id": "b3b22468",
   "metadata": {
    "tags": []
   },
   "outputs": [
    {
     "data": {
      "text/plain": [
       "Transformer(\n",
       "  (embedding): Linear(in_features=7, out_features=136, bias=True)\n",
       "  (transformer): TransformerEncoder(\n",
       "    (layers): ModuleList(\n",
       "      (0-3): 4 x TransformerEncoderLayer(\n",
       "        (self_attn): MultiheadAttention(\n",
       "          (out_proj): NonDynamicallyQuantizableLinear(in_features=136, out_features=136, bias=True)\n",
       "        )\n",
       "        (linear1): Linear(in_features=136, out_features=136, bias=True)\n",
       "        (dropout): Dropout(p=0.1, inplace=False)\n",
       "        (linear2): Linear(in_features=136, out_features=136, bias=True)\n",
       "        (norm1): LayerNorm((136,), eps=1e-05, elementwise_affine=True)\n",
       "        (norm2): LayerNorm((136,), eps=1e-05, elementwise_affine=True)\n",
       "        (dropout1): Dropout(p=0.1, inplace=False)\n",
       "        (dropout2): Dropout(p=0.1, inplace=False)\n",
       "      )\n",
       "    )\n",
       "  )\n",
       "  (head_layers): ModuleList(\n",
       "    (0-1): 2 x Linear(in_features=136, out_features=136, bias=True)\n",
       "  )\n",
       ")"
      ]
     },
     "execution_count": 16,
     "metadata": {},
     "output_type": "execute_result"
    }
   ],
   "source": [
    "torch.set_num_threads(2)\n",
    "\n",
    "# set gpu device\n",
    "device = torch.device( \"cuda\" if torch.cuda.is_available() else \"cpu\" )\n",
    "\n",
    "mask = True\n",
    "cmask = False\n",
    "\n",
    "model_dim = 136\n",
    "input_dim = 7\n",
    "output_dim = 136\n",
    "n_heads = 4\n",
    "dim_feedforward = 136\n",
    "n_layers = 4\n",
    "learning_rate = 0.00005\n",
    "n_head_layers = 2\n",
    "opt = 'adam'\n",
    "temperature = 0.1\n",
    "\n",
    "net = Transformer( input_dim, model_dim, output_dim, n_heads, dim_feedforward, \n",
    "                    n_layers, learning_rate, n_head_layers, dropout=0.1, opt=opt )\n",
    "\n",
    "\n",
    "\n",
    "# set gpu device\n",
    "device = torch.device( \"cuda\" if torch.cuda.is_available() else \"cpu\" )\n",
    "\n",
    "\n",
    "# send network \n",
    "net.to( device )"
   ]
  },
  {
   "cell_type": "code",
   "execution_count": 17,
   "id": "6214b0c7-ec6a-4cab-9dc6-cf5343a639a4",
   "metadata": {
    "tags": []
   },
   "outputs": [
    {
     "data": {
      "text/plain": [
       "device(type='cpu')"
      ]
     },
     "execution_count": 17,
     "metadata": {},
     "output_type": "execute_result"
    }
   ],
   "source": [
    "device"
   ]
  },
  {
   "cell_type": "code",
   "execution_count": 19,
   "id": "a1ae4cd0",
   "metadata": {
    "tags": []
   },
   "outputs": [
    {
     "name": "stdout",
     "output_type": "stream",
     "text": [
      "Epoch:  0\n",
      "Epoch:  1\n",
      "Epoch:  2\n",
      "Epoch:  3\n",
      "Epoch:  4\n",
      "Epoch:  5\n",
      "Epoch:  6\n",
      "Epoch:  7\n",
      "Epoch:  8\n",
      "Epoch:  9\n"
     ]
    }
   ],
   "source": [
    "# the loop\n",
    "\n",
    "trclrlosses = []\n",
    "vlclrlosses = []\n",
    "\n",
    "\n",
    "for epoch in range( n_epochs ):\n",
    "    \n",
    "    print(\"Epoch: \",epoch)\n",
    "    \n",
    "    lossestr = []\n",
    "    lossesvl = []\n",
    "\n",
    "    # re-batch the data on each epoch\n",
    "    indices_list = torch.split( torch.randperm( trndat.shape[0] ), batch_size )\n",
    "    vl_indices_list = torch.split( torch.randperm( valdat.shape[0] ), batch_size)\n",
    "    \n",
    "    for i, indices in enumerate( indices_list ):\n",
    "        # print(i,indices.shape)\n",
    "        net.optimizer.zero_grad()\n",
    "        x_i = trndat[indices,:,:]\n",
    "        x_j = x_i.copy()\n",
    "        x_j = rotate_events(x_j)\n",
    "        x_k = x_i.copy()\n",
    "        x_k = add_objects(x_k)\n",
    "        \n",
    "        # print(trndat.shape,x_i.shape)\n",
    "        \n",
    "        x_i = torch.Tensor( x_i ).transpose(1,2).to( device )\n",
    "        x_j = torch.Tensor( x_j ).transpose(1,2).to( device )\n",
    "        x_k = torch.Tensor( x_k ).transpose(1,2).to( device )\n",
    "        \n",
    "        # print(x_i.shape)\n",
    "        \n",
    "        z_i = net( x_i, use_mask=mask, use_continuous_mask=cmask )\n",
    "        z_j = net( x_j, use_mask=mask, use_continuous_mask=cmask )\n",
    "        z_k = net( x_k, use_mask=mask, use_continuous_mask=cmask )\n",
    "        \n",
    "        # print(z_i.shape)\n",
    "        \n",
    "        \n",
    "        loss = anomclr_plus_loss( z_i, z_j, z_k, temperature ).to( device )\n",
    "        loss.backward()\n",
    "        net.optimizer.step()\n",
    "        lossestr.append( loss.detach().cpu().numpy() )\n",
    "        \n",
    "    loss_tr = np.mean( np.array( lossestr ) )\n",
    "    trclrlosses.append( loss_tr )\n",
    "    \n",
    "\n",
    "    \n",
    "    for i, indices in enumerate(vl_indices_list):\n",
    "        net.eval()  \n",
    "        with torch.no_grad(): \n",
    "            \n",
    "            v_i = valdat[indices,:,:]\n",
    "            v_j = v_i.copy()\n",
    "            v_j = rotate_events(v_j)\n",
    "            v_k = v_i.copy()\n",
    "            v_k = add_objects(v_k)\n",
    "        \n",
    "            v_i = torch.Tensor( v_i ).transpose(1,2).to( device )\n",
    "            v_j = torch.Tensor( v_j ).transpose(1,2).to( device )\n",
    "            v_k = torch.Tensor( v_k ).transpose(1,2).to( device )\n",
    "        \n",
    "            y_i = net( v_i, use_mask=mask, use_continuous_mask=cmask )\n",
    "            y_j = net( v_j, use_mask=mask, use_continuous_mask=cmask )\n",
    "            y_k = net( v_k, use_mask=mask, use_continuous_mask=cmask )\n",
    "            \n",
    "            lossvl = anomclr_plus_loss( y_i, y_j, y_k, temperature ).to( device )\n",
    "            \n",
    "            lossesvl.append( lossvl.detach().cpu().numpy() )  \n",
    "    \n",
    "    vl_loss_e = np.mean( np.array( lossesvl ) )\n",
    "    vlclrlosses.append( vl_loss_e )\n",
    "\n",
    "    net.train()  \n",
    "    \n",
    "    if epoch%50==0:\n",
    "        torch.save(net.state_dict(), \"clr_model\" + str(epoch) + \".pt\")\n",
    "        np.save( \"clr_tr_losses.npy\", trclrlosses )"
   ]
  },
  {
   "cell_type": "code",
   "execution_count": 20,
   "id": "25aeb16a-d3ce-4ca9-8286-59b6375d9326",
   "metadata": {
    "tags": []
   },
   "outputs": [
    {
     "name": "stdout",
     "output_type": "stream",
     "text": [
      "[-12.791641, -18.962475, -19.374537, -19.53279, -19.603748, -19.679708, -19.740366, -19.702587, -19.77055, -19.801497]\n",
      "[-16.410233, -17.457039, -17.865349, -18.401829, -18.665428, -18.939663, -19.039541, -18.797226, -18.926949, -18.874378]\n"
     ]
    }
   ],
   "source": [
    "print(trclrlosses)\n",
    "print(vlclrlosses)"
   ]
  },
  {
   "cell_type": "code",
   "execution_count": 21,
   "id": "96a3e94d-628a-4e36-a8cf-3cf23e35f57e",
   "metadata": {
    "tags": []
   },
   "outputs": [
    {
     "name": "stderr",
     "output_type": "stream",
     "text": [
      "C:\\Users\\Admin\\AppData\\Local\\Temp\\ipykernel_12108\\3434846261.py:18: UserWarning: FixedFormatter should only be used together with FixedLocator\n",
      "  axs.set_xticklabels( xticks )\n",
      "C:\\Users\\Admin\\AppData\\Local\\Temp\\ipykernel_12108\\3434846261.py:22: UserWarning: FixedFormatter should only be used together with FixedLocator\n",
      "  axs.set_yticklabels( yticks )\n"
     ]
    },
    {
     "data": {
      "image/png": "[encoded data removed]",
      "text/plain": [
       "<Figure size 700x500 with 1 Axes>"
      ]
     },
     "metadata": {},
     "output_type": "display_data"
    }
   ],
   "source": [
    "# Plotting the traning and validation loss\n",
    "\n",
    "fig, axs = plt.subplots( 1, 1, figsize=(7,5) )\n",
    "\n",
    "c1 = 'tab:red'\n",
    "c2 = 'tab:green'\n",
    "\n",
    "\n",
    "axs.plot( trclrlosses, label=\"train loss\", color=c1 )\n",
    "axs.plot( vlclrlosses, label=\"val loss\", color=c2 )\n",
    "\n",
    "# axs.set_yscale('log')\n",
    "\n",
    "axs.set_xlabel( \"epoch\" )\n",
    "axs.set_ylabel( \"CLR Loss\" )\n",
    "\n",
    "xticks = [ int(x) for x in axs.get_xticks() ]\n",
    "axs.set_xticklabels( xticks )\n",
    "\n",
    "yticks = axs.get_yticks()\n",
    "\n",
    "axs.set_yticklabels( yticks )\n",
    "\n",
    "axs.legend( loc='best' )\n",
    "\n",
    "fig.tight_layout()"
   ]
  },
  {
   "cell_type": "code",
   "execution_count": 22,
   "id": "dc0f2d50-8e19-4ead-8ddc-e0d9c3788836",
   "metadata": {
    "tags": []
   },
   "outputs": [
    {
     "data": {
      "text/plain": [
       "303"
      ]
     },
     "execution_count": 22,
     "metadata": {},
     "output_type": "execute_result"
    }
   ],
   "source": [
    "# clear redundant variables\n",
    "import gc\n",
    "del(trndat,valdat)\n",
    "gc.collect()"
   ]
  },
  {
   "cell_type": "markdown",
   "id": "9a90def2-0678-487f-ac10-f3fac46b3b33",
   "metadata": {},
   "source": [
    "## Autoencoder"
   ]
  },
  {
   "cell_type": "code",
   "execution_count": 23,
   "id": "165a2d60-b9e0-4a64-a71d-e779b75d13c0",
   "metadata": {
    "tags": []
   },
   "outputs": [],
   "source": [
    "import os           # Importing operating system functionalities.\n",
    "import sys          # Importing system-specific parameters and functions.\n",
    "import random       # Importing random number generator functions.\n",
    "import time         # Importing time-related functions.\n",
    "import numpy as np  # Importing numerical computing library and aliasing as \"np\".\n",
    "\n",
    "import torch                                # Importing PyTorch library for neural networks.\n",
    "from torch.utils.data import Dataset        # Importing the Dataset class for creating custom datasets.\n",
    "from torch.utils.data import DataLoader     # Importing DataLoader class for loading data in batches.\n",
    "from torch import nn                        # Importing neural network module for building network architectures.\n",
    "from torch.nn import functional as F          # Importing functional module for various loss functions and activations.\n",
    "from torch.nn import Sequential, Linear, ReLU  # Importing specific neural network layers.\n",
    "import torch.optim as optim                    # Importing optimization algorithms like SGD, Adam, etc.\n",
    "\n",
    "\n",
    "#Plotting set up\n",
    "\n",
    "\n",
    "from matplotlib import pyplot as plt        # Importing the pyplot module from the matplotlib library for creating plots.\n",
    "import matplotlib                          # Importing the matplotlib library for visualization.\n",
    "import warnings                            # Importing the warnings module for managing warnings in the code.\n",
    "warnings.filterwarnings(\"ignore\")           # Filtering out and ignoring warnings in the output.\n",
    "from matplotlib.lines import Line2D                    # Importing Line2D class for creating custom lines in plots.\n",
    "from matplotlib.font_manager import FontProperties    # Importing FontProperties class for managing font properties in plots.\n",
    "import matplotlib.colors as mcolors                   # Importing color-related functions and classes from matplotlib.\n",
    "import colorsys                                        # Importing colorsys for color transformations (RGB to HSV, etc.).\n",
    "from sklearn.metrics import roc_curve, roc_auc_score  # Importing functions for ROC curve and AUC score calculations.\n"
   ]
  },
  {
   "cell_type": "code",
   "execution_count": 31,
   "id": "e514b6a0-14c9-4f35-876a-4a9bd46110ae",
   "metadata": {
    "tags": []
   },
   "outputs": [
    {
     "ename": "RuntimeError",
     "evalue": "[enforce fail at C:\\actions-runner\\_work\\pytorch\\pytorch\\builder\\windows\\pytorch\\c10\\core\\impl\\alloc_cpu.cpp:72] data. DefaultCPUAllocator: not enough memory: you tried to allocate 16384000000 bytes.",
     "output_type": "error",
     "traceback": [
      "\u001b[1;31m---------------------------------------------------------------------------\u001b[0m",
      "\u001b[1;31mRuntimeError\u001b[0m                              Traceback (most recent call last)",
      "Cell \u001b[1;32mIn[31], line 8\u001b[0m\n\u001b[0;32m      5\u001b[0m signal_data \u001b[38;5;241m=\u001b[39m sig[:trnsize_ae]\n\u001b[0;32m      7\u001b[0m trn_data \u001b[38;5;241m=\u001b[39m torch\u001b[38;5;241m.\u001b[39mTensor( trn_data )\u001b[38;5;241m.\u001b[39mtranspose(\u001b[38;5;241m1\u001b[39m,\u001b[38;5;241m2\u001b[39m)\u001b[38;5;241m.\u001b[39mto( device )\n\u001b[1;32m----> 8\u001b[0m trn_data \u001b[38;5;241m=\u001b[39m \u001b[43mnet\u001b[49m\u001b[43m(\u001b[49m\u001b[43m \u001b[49m\u001b[43mtrn_data\u001b[49m\u001b[43m,\u001b[49m\u001b[43m \u001b[49m\u001b[43muse_mask\u001b[49m\u001b[38;5;241;43m=\u001b[39;49m\u001b[43mmask\u001b[49m\u001b[43m,\u001b[49m\u001b[43m \u001b[49m\u001b[43muse_continuous_mask\u001b[49m\u001b[38;5;241;43m=\u001b[39;49m\u001b[43mcmask\u001b[49m\u001b[43m \u001b[49m\u001b[43m)\u001b[49m\n\u001b[0;32m     10\u001b[0m val_data \u001b[38;5;241m=\u001b[39m torch\u001b[38;5;241m.\u001b[39mTensor( val_data )\u001b[38;5;241m.\u001b[39mtranspose(\u001b[38;5;241m1\u001b[39m,\u001b[38;5;241m2\u001b[39m)\u001b[38;5;241m.\u001b[39mto( device )\n\u001b[0;32m     11\u001b[0m val_data \u001b[38;5;241m=\u001b[39m net( val_data, use_mask\u001b[38;5;241m=\u001b[39mmask, use_continuous_mask\u001b[38;5;241m=\u001b[39mcmask )\n",
      "File \u001b[1;32m~\\anaconda3\\envs\\AnomalyCLR_env\\lib\\site-packages\\torch\\nn\\modules\\module.py:1501\u001b[0m, in \u001b[0;36mModule._call_impl\u001b[1;34m(self, *args, **kwargs)\u001b[0m\n\u001b[0;32m   1496\u001b[0m \u001b[38;5;66;03m# If we don't have any hooks, we want to skip the rest of the logic in\u001b[39;00m\n\u001b[0;32m   1497\u001b[0m \u001b[38;5;66;03m# this function, and just call forward.\u001b[39;00m\n\u001b[0;32m   1498\u001b[0m \u001b[38;5;28;01mif\u001b[39;00m \u001b[38;5;129;01mnot\u001b[39;00m (\u001b[38;5;28mself\u001b[39m\u001b[38;5;241m.\u001b[39m_backward_hooks \u001b[38;5;129;01mor\u001b[39;00m \u001b[38;5;28mself\u001b[39m\u001b[38;5;241m.\u001b[39m_backward_pre_hooks \u001b[38;5;129;01mor\u001b[39;00m \u001b[38;5;28mself\u001b[39m\u001b[38;5;241m.\u001b[39m_forward_hooks \u001b[38;5;129;01mor\u001b[39;00m \u001b[38;5;28mself\u001b[39m\u001b[38;5;241m.\u001b[39m_forward_pre_hooks\n\u001b[0;32m   1499\u001b[0m         \u001b[38;5;129;01mor\u001b[39;00m _global_backward_pre_hooks \u001b[38;5;129;01mor\u001b[39;00m _global_backward_hooks\n\u001b[0;32m   1500\u001b[0m         \u001b[38;5;129;01mor\u001b[39;00m _global_forward_hooks \u001b[38;5;129;01mor\u001b[39;00m _global_forward_pre_hooks):\n\u001b[1;32m-> 1501\u001b[0m     \u001b[38;5;28;01mreturn\u001b[39;00m forward_call(\u001b[38;5;241m*\u001b[39margs, \u001b[38;5;241m*\u001b[39m\u001b[38;5;241m*\u001b[39mkwargs)\n\u001b[0;32m   1502\u001b[0m \u001b[38;5;66;03m# Do not call functions when jit is used\u001b[39;00m\n\u001b[0;32m   1503\u001b[0m full_backward_hooks, non_full_backward_hooks \u001b[38;5;241m=\u001b[39m [], []\n",
      "Cell \u001b[1;32mIn[15], line 61\u001b[0m, in \u001b[0;36mTransformer.forward\u001b[1;34m(self, inpt, mask, use_mask, use_continuous_mask, mult_reps)\u001b[0m\n\u001b[0;32m     59\u001b[0m \u001b[38;5;66;03m# (n_constit, batch_size, model_dim)\u001b[39;00m\n\u001b[0;32m     60\u001b[0m x \u001b[38;5;241m=\u001b[39m \u001b[38;5;28mself\u001b[39m\u001b[38;5;241m.\u001b[39membedding(x)               \n\u001b[1;32m---> 61\u001b[0m x \u001b[38;5;241m=\u001b[39m \u001b[38;5;28;43mself\u001b[39;49m\u001b[38;5;241;43m.\u001b[39;49m\u001b[43mtransformer\u001b[49m\u001b[43m(\u001b[49m\u001b[43mx\u001b[49m\u001b[43m,\u001b[49m\u001b[43m \u001b[49m\u001b[43mmask\u001b[49m\u001b[38;5;241;43m=\u001b[39;49m\u001b[43mmask\u001b[49m\u001b[43m)\u001b[49m\n\u001b[0;32m     62\u001b[0m \u001b[38;5;28;01mif\u001b[39;00m use_mask:\n\u001b[0;32m     63\u001b[0m     \u001b[38;5;66;03m# set masked constituents to zero\u001b[39;00m\n\u001b[0;32m     64\u001b[0m     \u001b[38;5;66;03m# otherwise the sum will change if the constituents with 0 pT change\u001b[39;00m\n\u001b[0;32m     65\u001b[0m     x[torch\u001b[38;5;241m.\u001b[39mtranspose(pT_zero, \u001b[38;5;241m0\u001b[39m, \u001b[38;5;241m1\u001b[39m)] \u001b[38;5;241m=\u001b[39m \u001b[38;5;241m0\u001b[39m\n",
      "File \u001b[1;32m~\\anaconda3\\envs\\AnomalyCLR_env\\lib\\site-packages\\torch\\nn\\modules\\module.py:1501\u001b[0m, in \u001b[0;36mModule._call_impl\u001b[1;34m(self, *args, **kwargs)\u001b[0m\n\u001b[0;32m   1496\u001b[0m \u001b[38;5;66;03m# If we don't have any hooks, we want to skip the rest of the logic in\u001b[39;00m\n\u001b[0;32m   1497\u001b[0m \u001b[38;5;66;03m# this function, and just call forward.\u001b[39;00m\n\u001b[0;32m   1498\u001b[0m \u001b[38;5;28;01mif\u001b[39;00m \u001b[38;5;129;01mnot\u001b[39;00m (\u001b[38;5;28mself\u001b[39m\u001b[38;5;241m.\u001b[39m_backward_hooks \u001b[38;5;129;01mor\u001b[39;00m \u001b[38;5;28mself\u001b[39m\u001b[38;5;241m.\u001b[39m_backward_pre_hooks \u001b[38;5;129;01mor\u001b[39;00m \u001b[38;5;28mself\u001b[39m\u001b[38;5;241m.\u001b[39m_forward_hooks \u001b[38;5;129;01mor\u001b[39;00m \u001b[38;5;28mself\u001b[39m\u001b[38;5;241m.\u001b[39m_forward_pre_hooks\n\u001b[0;32m   1499\u001b[0m         \u001b[38;5;129;01mor\u001b[39;00m _global_backward_pre_hooks \u001b[38;5;129;01mor\u001b[39;00m _global_backward_hooks\n\u001b[0;32m   1500\u001b[0m         \u001b[38;5;129;01mor\u001b[39;00m _global_forward_hooks \u001b[38;5;129;01mor\u001b[39;00m _global_forward_pre_hooks):\n\u001b[1;32m-> 1501\u001b[0m     \u001b[38;5;28;01mreturn\u001b[39;00m forward_call(\u001b[38;5;241m*\u001b[39margs, \u001b[38;5;241m*\u001b[39m\u001b[38;5;241m*\u001b[39mkwargs)\n\u001b[0;32m   1502\u001b[0m \u001b[38;5;66;03m# Do not call functions when jit is used\u001b[39;00m\n\u001b[0;32m   1503\u001b[0m full_backward_hooks, non_full_backward_hooks \u001b[38;5;241m=\u001b[39m [], []\n",
      "File \u001b[1;32m~\\anaconda3\\envs\\AnomalyCLR_env\\lib\\site-packages\\torch\\nn\\modules\\transformer.py:306\u001b[0m, in \u001b[0;36mTransformerEncoder.forward\u001b[1;34m(self, src, mask, src_key_padding_mask, is_causal)\u001b[0m\n\u001b[0;32m    303\u001b[0m \u001b[38;5;28;01mif\u001b[39;00m mask \u001b[38;5;129;01mis\u001b[39;00m \u001b[38;5;129;01mnot\u001b[39;00m \u001b[38;5;28;01mNone\u001b[39;00m:\n\u001b[0;32m    304\u001b[0m     sz \u001b[38;5;241m=\u001b[39m mask\u001b[38;5;241m.\u001b[39msize(\u001b[38;5;241m0\u001b[39m)\n\u001b[0;32m    305\u001b[0m     causal_comparison \u001b[38;5;241m=\u001b[39m torch\u001b[38;5;241m.\u001b[39mtriu(\n\u001b[1;32m--> 306\u001b[0m         \u001b[43mtorch\u001b[49m\u001b[38;5;241;43m.\u001b[39;49m\u001b[43mones\u001b[49m\u001b[43m(\u001b[49m\u001b[43msz\u001b[49m\u001b[43m,\u001b[49m\u001b[43m \u001b[49m\u001b[43msz\u001b[49m\u001b[43m,\u001b[49m\u001b[43m \u001b[49m\u001b[43mdevice\u001b[49m\u001b[38;5;241;43m=\u001b[39;49m\u001b[43mmask\u001b[49m\u001b[38;5;241;43m.\u001b[39;49m\u001b[43mdevice\u001b[49m\u001b[43m)\u001b[49m \u001b[38;5;241m*\u001b[39m \u001b[38;5;28mfloat\u001b[39m(\u001b[38;5;124m'\u001b[39m\u001b[38;5;124m-inf\u001b[39m\u001b[38;5;124m'\u001b[39m), diagonal\u001b[38;5;241m=\u001b[39m\u001b[38;5;241m1\u001b[39m\n\u001b[0;32m    307\u001b[0m     )\u001b[38;5;241m.\u001b[39mto(mask\u001b[38;5;241m.\u001b[39mdtype)\n\u001b[0;32m    309\u001b[0m     \u001b[38;5;28;01mif\u001b[39;00m torch\u001b[38;5;241m.\u001b[39mequal(mask, causal_comparison):\n\u001b[0;32m    310\u001b[0m         make_causal \u001b[38;5;241m=\u001b[39m \u001b[38;5;28;01mTrue\u001b[39;00m\n",
      "\u001b[1;31mRuntimeError\u001b[0m: [enforce fail at C:\\actions-runner\\_work\\pytorch\\pytorch\\builder\\windows\\pytorch\\c10\\core\\impl\\alloc_cpu.cpp:72] data. DefaultCPUAllocator: not enough memory: you tried to allocate 16384000000 bytes."
     ]
    }
   ],
   "source": [
    "trnsize_tot = 20000\n",
    "trnsize_ae = int(trnsize_tot*0.8)\n",
    "trn_data = bkg[:trnsize_ae,:,:]\n",
    "val_data = bkg[trnsize_ae:trnsize_tot,:,:]\n",
    "signal_data = sig[:trnsize_ae]\n",
    "\n",
    "trn_data = torch.Tensor( trn_data ).transpose(1,2).to( device )\n",
    "trn_data = net( trn_data, use_mask=mask, use_continuous_mask=cmask )\n",
    "\n",
    "val_data = torch.Tensor( val_data ).transpose(1,2).to( device )\n",
    "val_data = net( val_data, use_mask=mask, use_continuous_mask=cmask )\n",
    "\n",
    "signal_data = torch.Tensor( signal_data ).transpose(1,2).to( device )\n",
    "signal_data = net( signal_data, use_mask=mask, use_continuous_mask=cmask )\n",
    "\n",
    "print(trn_data.shape, val_data.shape, signal_data.shape)\n",
    "\n",
    "trn_dl = DataLoader( trn_data, batch_size=128, shuffle=True )\n",
    "val_dl = DataLoader( val_data, batch_size=128, shuffle=True )\n",
    "signal_dl = DataLoader( signal_data, batch_size=128, shuffle=True )"
   ]
  },
  {
   "cell_type": "code",
   "execution_count": 25,
   "id": "3a914f3f-a529-4f2a-93cf-5dd1a8038fed",
   "metadata": {
    "tags": []
   },
   "outputs": [],
   "source": [
    "# AE network architecture\n",
    "class Autoencoder(nn.Module):\n",
    "    def __init__(self, data_dim):\n",
    "        super(Autoencoder, self).__init__()\n",
    "        \n",
    "        # Encoder layers: Transform input data_dim to a lower-dimensional representation        \n",
    "        self.encoder = nn.Sequential(\n",
    "            nn.Linear(data_dim, 256),\n",
    "            nn.LeakyReLU(),\n",
    "            nn.Linear(256, 128),\n",
    "            nn.LeakyReLU(),\n",
    "            nn.Linear(128, 64),\n",
    "            nn.LeakyReLU(),\n",
    "            nn.Linear(64, 32),\n",
    "            nn.LeakyReLU(),\n",
    "            nn.Linear(32, 16),\n",
    "            nn.LeakyReLU(),\n",
    "            nn.Linear(16, 5),\n",
    "        )\n",
    "        \n",
    "        # Decoder layers: Transform the lower-dimensional representation back to data_dim\n",
    "        self.decoder = nn.Sequential(\n",
    "            nn.Linear(5, 16),\n",
    "            nn.LeakyReLU(),\n",
    "            nn.Linear(16, 32),\n",
    "            nn.LeakyReLU(),\n",
    "            nn.Linear(32, 64),\n",
    "            nn.LeakyReLU(),\n",
    "            nn.Linear(64, 128),\n",
    "            nn.LeakyReLU(),\n",
    "            nn.Linear(128, 256),\n",
    "            nn.LeakyReLU(),\n",
    "            nn.Linear(256, data_dim),\n",
    "        )\n",
    "        \n",
    "    def forward(self, x):\n",
    "        out = self.encoder(x)\n",
    "        out = self.decoder(out)\n",
    "        return out\n",
    "\n",
    "# training module\n",
    "\n",
    "\n",
    "def train_epoch(dataloader, model, loss_fn, optimizer):\n",
    "    # Get the total size of the dataset\n",
    "    size = len(dataloader.dataset)\n",
    "    \n",
    "    for batch, X in enumerate(dataloader):\n",
    "        # Reset gradients in the optimizer\n",
    "        optimizer.zero_grad()\n",
    "        \n",
    "        # Pass data through the neural network to get predictions\n",
    "        pred = model(X)\n",
    "        \n",
    "        # Compute the loss between the original input (X) and the predictions (pred)\n",
    "        loss = loss_fn(X, pred)\n",
    "        \n",
    "        # Compute gradients by backpropagating the loss\n",
    "        loss.backward(retain_graph=True)\n",
    "        \n",
    "        # Update weights using the optimizer based on computed gradients\n",
    "        optimizer.step()\n",
    "        \n",
    "        # Print the training loss every 100 updates\n",
    "        if batch % 100 == 0:\n",
    "            loss, current = loss.item(), batch * len(X)\n",
    "            print(f\"current batch loss: {loss:>7f}  [{current:>5d}/{size:>5d}]\")\n",
    "\n",
    "def val_pass(dataloader, model, loss_fn):\n",
    "    # Get the total size and number of batches in the dataset\n",
    "    size = len(dataloader.dataset)\n",
    "    num_batches = len(dataloader)\n",
    "    vl = 0.0\n",
    "    \n",
    "    # Turn off gradient computation since only forward pass is needed\n",
    "    with torch.no_grad():\n",
    "        for X in dataloader:\n",
    "            # Pass data through the model to get predictions\n",
    "            pred = model(X)\n",
    "            \n",
    "            # Accumulate validation loss\n",
    "            vl += loss_fn(X, pred).item()\n",
    "\n",
    "    # Calculate average validation loss per batch\n",
    "    vl /= num_batches\n",
    "    print(f\"avg val loss per batch: {vl:>8f}\")\n",
    "    \n",
    "    return vl\n",
    "\n",
    "def trn_pass(dataloader, model, loss_fn):\n",
    "    # Get the total size and number of batches in the dataset\n",
    "    size = len(dataloader.dataset)\n",
    "    num_batches = len(dataloader)\n",
    "    tl = 0.0\n",
    "    \n",
    "    # Turn off gradient computation since only forward pass is needed\n",
    "    with torch.no_grad():\n",
    "        for X in dataloader:\n",
    "            # Pass data through the model to get predictions\n",
    "            pred = model(X)\n",
    "            \n",
    "            # Accumulate training loss\n",
    "            tl += loss_fn(X, pred).item()\n",
    "\n",
    "    # Calculate average training loss per batch\n",
    "    tl /= num_batches\n",
    "    print(f\"avg trn loss per batch: {tl:>8f}\")\n",
    "    \n",
    "    return tl\n"
   ]
  },
  {
   "cell_type": "code",
   "execution_count": 26,
   "id": "6c0fc8bb-b20d-4e75-9d1c-034ce5e56f04",
   "metadata": {
    "tags": []
   },
   "outputs": [
    {
     "name": "stdout",
     "output_type": "stream",
     "text": [
      "-----------------------------------------------\n",
      "Epoch 1\n",
      "-----------------------------------------------\n",
      "current batch loss: 1.198485  [    0/ 1600]\n",
      "-----------------------------------------------\n",
      "avg trn loss per batch: 0.650589\n",
      "-----------------------------------------------\n",
      "avg val loss per batch: 0.648005\n",
      "-----------------------------------------------\n",
      "|\n",
      "-----------------------------------------------\n",
      "Epoch 2\n",
      "-----------------------------------------------\n",
      "current batch loss: 0.665601  [    0/ 1600]\n",
      "-----------------------------------------------\n",
      "avg trn loss per batch: 0.107240\n",
      "-----------------------------------------------\n",
      "avg val loss per batch: 0.098016\n",
      "-----------------------------------------------\n",
      "|\n",
      "-----------------------------------------------\n",
      "Epoch 3\n",
      "-----------------------------------------------\n",
      "current batch loss: 0.114438  [    0/ 1600]\n",
      "-----------------------------------------------\n",
      "avg trn loss per batch: 0.075190\n",
      "-----------------------------------------------\n",
      "avg val loss per batch: 0.065121\n",
      "-----------------------------------------------\n",
      "|\n",
      "-----------------------------------------------\n",
      "Epoch 4\n",
      "-----------------------------------------------\n",
      "current batch loss: 0.072779  [    0/ 1600]\n",
      "-----------------------------------------------\n",
      "avg trn loss per batch: 0.034359\n",
      "-----------------------------------------------\n",
      "avg val loss per batch: 0.025141\n",
      "-----------------------------------------------\n",
      "|\n",
      "-----------------------------------------------\n",
      "Epoch 5\n",
      "-----------------------------------------------\n",
      "current batch loss: 0.029300  [    0/ 1600]\n",
      "-----------------------------------------------\n",
      "avg trn loss per batch: 0.013632\n",
      "-----------------------------------------------\n",
      "avg val loss per batch: 0.009238\n",
      "-----------------------------------------------\n",
      "|\n",
      "-----------------------------------------------\n",
      "Epoch 6\n",
      "-----------------------------------------------\n",
      "current batch loss: 0.017977  [    0/ 1600]\n",
      "-----------------------------------------------\n",
      "avg trn loss per batch: 0.005252\n",
      "-----------------------------------------------\n",
      "avg val loss per batch: 0.002734\n",
      "-----------------------------------------------\n",
      "|\n",
      "-----------------------------------------------\n",
      "Epoch 7\n",
      "-----------------------------------------------\n",
      "current batch loss: 0.005779  [    0/ 1600]\n",
      "-----------------------------------------------\n",
      "avg trn loss per batch: 0.003958\n",
      "-----------------------------------------------\n",
      "avg val loss per batch: 0.001897\n",
      "-----------------------------------------------\n",
      "|\n",
      "-----------------------------------------------\n",
      "Epoch 8\n",
      "-----------------------------------------------\n",
      "current batch loss: 0.002017  [    0/ 1600]\n",
      "-----------------------------------------------\n",
      "avg trn loss per batch: 0.004905\n",
      "-----------------------------------------------\n",
      "avg val loss per batch: 0.001918\n",
      "-----------------------------------------------\n",
      "|\n",
      "-----------------------------------------------\n",
      "Epoch 9\n",
      "-----------------------------------------------\n",
      "current batch loss: 0.001511  [    0/ 1600]\n",
      "-----------------------------------------------\n",
      "avg trn loss per batch: 0.003377\n",
      "-----------------------------------------------\n",
      "avg val loss per batch: 0.002242\n",
      "-----------------------------------------------\n",
      "|\n",
      "-----------------------------------------------\n",
      "Epoch 10\n",
      "-----------------------------------------------\n",
      "current batch loss: 0.001725  [    0/ 1600]\n",
      "-----------------------------------------------\n",
      "avg trn loss per batch: 0.003104\n",
      "-----------------------------------------------\n",
      "avg val loss per batch: 0.001866\n",
      "-----------------------------------------------\n",
      "|\n",
      "Done!\n"
     ]
    }
   ],
   "source": [
    "# a useful function to present things clearer\n",
    "def separator():\n",
    "    print( \"-----------------------------------------------\" )\n",
    "\n",
    "epochs = 10\n",
    "\n",
    "# re-initialise the model and the optimizer\n",
    "model = Autoencoder(trn_data.shape[1])\n",
    "optimizer = torch.optim.Adam( model.parameters(), lr=0.001 )\n",
    "\n",
    "# track train and val losses\n",
    "trn_losses = []\n",
    "val_losses = []\n",
    "loss_fn = nn.MSELoss()\n",
    "\n",
    "\n",
    "\n",
    "for t in range(epochs):\n",
    "    separator()\n",
    "    print( f\"Epoch {t+1}\" )\n",
    "    separator()\n",
    "    train_epoch( trn_dl, model, loss_fn, optimizer )\n",
    "    separator()\n",
    "    trn_loss = trn_pass( trn_dl, model, loss_fn )\n",
    "    trn_losses.append( trn_loss )\n",
    "    separator()\n",
    "    val_loss = val_pass( val_dl, model, loss_fn )\n",
    "    val_losses.append( val_loss )\n",
    "    separator()\n",
    "    print( \"|\" )\n",
    "    \n",
    "print(\"Done!\")"
   ]
  },
  {
   "cell_type": "code",
   "execution_count": 27,
   "id": "8119ba0c-0989-4602-9cc9-2b1471f88fbb",
   "metadata": {
    "tags": []
   },
   "outputs": [
    {
     "data": {
      "image/png": "[encoded data removed]",
      "text/plain": [
       "<Figure size 700x500 with 1 Axes>"
      ]
     },
     "metadata": {},
     "output_type": "display_data"
    }
   ],
   "source": [
    "# Plotting the traning and validation loss\n",
    "\n",
    "fig, axs = plt.subplots( 1, 1, figsize=(7,5) )\n",
    "\n",
    "c1 = 'tab:red'\n",
    "c2 = 'tab:green'\n",
    "\n",
    "\n",
    "axs.plot( trn_losses, label=\"train loss\", color=c1 )\n",
    "axs.plot( val_losses, label=\"val   loss\", color=c2 )\n",
    "\n",
    "axs.set_yscale('log')\n",
    "\n",
    "# axs.set_xlabel( \"epoch\", fontproperties=axislabelfont )\n",
    "# axs.set_ylabel( \"Binary CE\", fontproperties=axislabelfont )\n",
    "\n",
    "axs.set_xlabel( \"epoch\" )\n",
    "axs.set_ylabel( \"MSE\" )\n",
    "\n",
    "xticks = [ int(x) for x in axs.get_xticks() ]\n",
    "# axs.set_xticklabels( xticks, fontproperties=tickfont )\n",
    "axs.set_xticklabels( xticks )\n",
    "\n",
    "yticks = axs.get_yticks()\n",
    "# axs.set_yticklabels( yticks, fontproperties=tickfont )\n",
    "axs.set_yticklabels( yticks )\n",
    "\n",
    "# axs.legend( loc='best', prop=tickfont )\n",
    "axs.legend( loc='best' )\n",
    "\n",
    "fig.tight_layout()"
   ]
  },
  {
   "cell_type": "code",
   "execution_count": 29,
   "id": "fbe196f5-d65d-4a02-9a9e-be28d49cedf8",
   "metadata": {
    "tags": []
   },
   "outputs": [],
   "source": [
    "# samp_size = 10000\n",
    "samp_size = 1000   # Switch on if you are using 20k file.\n",
    "sig_pred = model(signal_data[:samp_size]).detach()\n",
    "bkg_pred = model(val_data[:samp_size]).detach()\n",
    "\n",
    "# Create a Mean Squared Error (MSE) loss function with individual loss values not reduced to a scalar\n",
    "test_loss = nn.MSELoss(reduce=False)\n",
    "\n",
    "# Calculate the MSE between the predicted signal and the actual signal for each sample\n",
    "sig_mse = test_loss(sig_pred[:samp_size], signal_data[:samp_size])\n",
    "\n",
    "# Calculate the MSE between the predicted background and the actual background for each sample\n",
    "bkg_mse = test_loss(bkg_pred[:samp_size], val_data[:samp_size])\n",
    "\n",
    "# Calculate the mean MSE value for signal samples along the specified dimension\n",
    "signal_mse = torch.mean(sig_mse, dim=-1)\n",
    "signal_mse = signal_mse.detach().numpy()\n",
    "\n",
    "# Calculate the mean MSE value for background samples along the specified dimension\n",
    "background_mse = torch.mean(bkg_mse, dim=-1)\n",
    "background_mse = background_mse.detach().numpy()"
   ]
  },
  {
   "cell_type": "code",
   "execution_count": 30,
   "id": "c0854187-23cd-4a1b-b0d3-fff4cc245e23",
   "metadata": {
    "tags": []
   },
   "outputs": [
    {
     "data": {
      "image/png": "[encoded data removed]",
      "text/plain": [
       "<Figure size 1400x500 with 2 Axes>"
      ]
     },
     "metadata": {},
     "output_type": "display_data"
    }
   ],
   "source": [
    "# Generating an array of 100 values linearly spaced between 0 and 1\n",
    "rnd_cl = np.linspace(0, 1, 100)\n",
    "\n",
    "# Creating a ground truth array by concatenating arrays of ones (signal) and zeros (background)\n",
    "truth = np.concatenate((np.ones(signal_mse.shape[0]), np.zeros(background_mse.shape[0])))\n",
    "\n",
    "# Concatenating signal and background predictions to create a prediction array\n",
    "prediction = np.concatenate((signal_mse, background_mse))\n",
    "\n",
    "# Calculating the Receiver Operating Characteristic (ROC) curve\n",
    "# fpr: False Positive Rate, tpr: True Positive Rate, th: Thresholds\n",
    "fpr, tpr, th = roc_curve(truth, prediction)\n",
    "\n",
    "# Calculating the Area Under the ROC Curve (AUC)\n",
    "auc = roc_auc_score(truth, prediction)\n",
    "\n",
    "# Function to find the index of the closest point in an array to a given value (default tpr_p=0.3)\n",
    "def closest_point(array, tpr_p=0.3):\n",
    "    dist = ((array - tpr_p) ** 2)\n",
    "    return np.argmin(dist)\n",
    "\n",
    "# Creating a figure with two subplots (1 row, 2 columns) of size 14x5 inches\n",
    "fig, ax = plt.subplots(1, 2, figsize=(14, 5))\n",
    "\n",
    "# Plotting the ROC curve on the first subplot\n",
    "ax[0].plot(fpr, tpr, label='AUC = {:.2f}'.format(auc))\n",
    "ax[0].plot(rnd_cl, rnd_cl, '--', label='Rnd classifier')\n",
    "\n",
    "# Plotting the ROC curve on the second subplot\n",
    "ax[1].plot(tpr, 1 / fpr, label='AUC = {:.2f}\\n $1/\\epsilon_{{bkg}}$(0.3) = {:.0f}'.format(auc, 1 / fpr[closest_point(tpr, tpr_p=0.3)]))\n",
    "ax[1].plot(rnd_cl, 1 / rnd_cl, '--', label='Rnd classifier')\n",
    "\n",
    "# Setting y-axis scale to logarithmic on the second subplot\n",
    "ax[1].set_yscale('log')\n",
    "\n",
    "# Setting labels for the x and y axes of the first subplot\n",
    "ax[0].set_xlabel('$\\epsilon_{bkg}$ (FPR)')\n",
    "ax[0].set_ylabel('$\\epsilon_{s}$ (TPR)')\n",
    "\n",
    "# Setting labels for the x and y axes of the second subplot\n",
    "ax[1].set_xlabel('$\\epsilon_{s}$ (TPR)')\n",
    "ax[1].set_ylabel('1/$\\epsilon_{bkg}$ (Inverse FPR)')\n",
    "\n",
    "# Adding legends, adjusting font size, enabling grid for both subplots\n",
    "for i in range(len(ax)):\n",
    "    ax[i].legend()\n",
    "    ax[i].tick_params()\n",
    "    ax[i].grid('on')\n",
    "\n",
    "\n"
   ]
  },
  {
   "cell_type": "code",
   "execution_count": null,
   "id": "03f8fedc-7cc8-45ee-b696-d098724ece55",
   "metadata": {},
   "outputs": [],
   "source": []
  }
 ],
 "metadata": {
  "kernelspec": {
   "display_name": "Python 3 (ipykernel)",
   "language": "python",
   "name": "python3"
  },
  "language_info": {
   "codemirror_mode": {
    "name": "ipython",
    "version": 3
   },
   "file_extension": ".py",
   "mimetype": "text/x-python",
   "name": "python",
   "nbconvert_exporter": "python",
   "pygments_lexer": "ipython3",
   "version": "3.9.17"
  }
 },
 "nbformat": 4,
 "nbformat_minor": 5
}
